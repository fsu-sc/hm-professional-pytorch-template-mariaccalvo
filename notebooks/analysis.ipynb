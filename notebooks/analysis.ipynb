{
 "cells": [
  {
   "cell_type": "markdown",
   "metadata": {},
   "source": [
    "# Homework Report and Analysis\n",
    "## Personal Details\n",
    "\n",
    "**Name:** Maria Calvo\n",
    "\n",
    "**Date:** 3/12/2025\n",
    "\n",
    "**Course:** Data Science Meets Health\n",
    "\n",
    "**Instructor:** Dr. Olmo S. Zavala Romero"
   ]
  },
  {
   "cell_type": "markdown",
   "metadata": {},
   "source": [
    "## Homework Questions and Answers\n",
    "\n",
    "### Code to 1. Implement Custom Dataset"
   ]
  },
  {
   "cell_type": "code",
   "execution_count": 1,
   "metadata": {},
   "outputs": [],
   "source": [
    "#  1. Implement Custom Dataset\n",
    "\n",
    "import os\n",
    "import sys\n",
    "\n",
    "sys.path.insert(0, os.path.abspath(\"/Users/mariacalvo/Desktop/hm-professional-pytorch-template-mariaccalvo\"))\n",
    "\n",
    "import torch\n",
    "import numpy as np\n",
    "from base.base_data_loader import BaseDataLoader\n",
    "from torch.utils.data import Dataset\n",
    "\n",
    "class FunctionsDataset(Dataset):\n",
    "    def __init__(self, n_samples=100, function='linear'):\n",
    "        self.n_samples = n_samples\n",
    "        self.function = function\n",
    "\n",
    "        # generate values of x randomly between 0 and 2pi\n",
    "        self.x = np.random.uniform(0, 2 * np.pi, self.n_samples)\n",
    "\n",
    "        # generate values of y based on function type and noise (epsilon between -1 and 1)\n",
    "        epsilon = np.random.uniform(-1, 1, self.n_samples)\n",
    "        if self.function == 'linear':\n",
    "            self.y = 1.5 * self.x + 0.3 + epsilon\n",
    "        elif self.function == 'quadratic':\n",
    "            self.y = 2 * (self.x ** 2) + 0.5 * self.x + 0.3 + epsilon\n",
    "        elif self.function == 'harmonic':\n",
    "            self.y = 0.5 * (self.x ** 2) + 5 * np.sin(self.x) + 3 * np.cos(3 * self.x) + 2 + epsilon\n",
    "        else:\n",
    "            raise ValueError(f\"Unknown function type: {self.function}. Function options only are linear, quadratic, and harmonic\")\n",
    "\n",
    "        # normalize x and y\n",
    "        self.x = (self.x - np.mean(self.x)) / np.std(self.x)\n",
    "        self.y = (self.y - np.mean(self.y)) / np.std(self.y)\n",
    "\n",
    "        self.x = torch.tensor(self.x, dtype=torch.float32).unsqueeze(1)\n",
    "        self.y = torch.tensor(self.y, dtype=torch.float32).unsqueeze(1)\n",
    "\n",
    "    def __len__(self):\n",
    "        return self.n_samples\n",
    "\n",
    "    def __getitem__(self, idx):\n",
    "        return self.x[idx], self.y[idx]\n",
    "\n",
    "class FunctionDataLoader(BaseDataLoader):\n",
    "    def __init__(self, data_dir, batch_size, shuffle=True, validation_split=0.0, num_workers=1, function='linear', n_samples=100):\n",
    "        self.dataset = FunctionDataset(n_samples=n_samples, function=function)\n",
    "        super().__init__(self.dataset, batch_size, shuffle, validation_split, num_workers)"
   ]
  },
  {
   "cell_type": "markdown",
   "metadata": {},
   "source": [
    "### Code to 2. Implement Model Architecture"
   ]
  },
  {
   "cell_type": "code",
   "execution_count": 2,
   "metadata": {},
   "outputs": [],
   "source": [
    "#  2. Implement Model Architecture \n",
    "\n",
    "import torch\n",
    "import torch.nn as nn\n",
    "from torch.optim import Adam\n",
    "\n",
    "# activation functions\n",
    "activations = {\n",
    "    'relu': nn.ReLU,\n",
    "    'sigmoid': nn.Sigmoid,\n",
    "    'tanh': nn.Tanh,\n",
    "    'linear': nn.Identity  \n",
    "}\n",
    "\n",
    "# base model definition\n",
    "class BaseModel(nn.Module):\n",
    "    def __init__(self, input_size, output_size):\n",
    "        super().__init__()\n",
    "        self.input_size = input_size\n",
    "        self.output_size = output_size\n",
    "\n",
    "    def save_model(self, path):\n",
    "        torch.save(self.state_dict(), path)\n",
    "\n",
    "    def load_model(self, path):\n",
    "        self.load_state_dict(torch.load(path))\n",
    "        self.eval()\n",
    "\n",
    "    def train_model(self, dataloader, criterion, optimizer, num_epochs=10):\n",
    "        for epoch in range(num_epochs):\n",
    "            self.train() \n",
    "            running_loss = 0.0\n",
    "            for inputs, labels in dataloader:\n",
    "                optimizer.zero_grad()\n",
    "                outputs = self(inputs)\n",
    "                loss = criterion(outputs, labels)\n",
    "                loss.backward()\n",
    "                optimizer.step()\n",
    "                running_loss += loss.item()\n",
    "            print(f\"Epoch [{epoch+1}/{num_epochs}], Loss: {running_loss/len(dataloader)}\")\n",
    "\n",
    "    def evaluate_model(self, dataloader, criterion):\n",
    "        self.eval()  \n",
    "        running_loss = 0.0\n",
    "        with torch.no_grad():\n",
    "            for inputs, labels in dataloader:\n",
    "                outputs = self(inputs)\n",
    "                loss = criterion(outputs, labels)\n",
    "                running_loss += loss.item()\n",
    "        print(f\"Validation Loss: {running_loss/len(dataloader)}\")\n",
    "\n",
    "# dense model definition\n",
    "class DenseModel(BaseModel):\n",
    "    def __init__(self, input_size, output_size, hidden_layers=1, neurons_per_layer=10, activation_hidden='relu', activation_output='linear'):\n",
    "        super().__init__(input_size, output_size)\n",
    "\n",
    "        # check activation function\n",
    "        if activation_hidden not in activations:\n",
    "            raise ValueError(f\"Unknown activation function: {activation_hidden}. Activation options only are relu, sigmoid, tanh, and linear.\")\n",
    "\n",
    "        # list of layers\n",
    "        layers = []\n",
    "\n",
    "        # input layer\n",
    "        layers.append(nn.Linear(input_size, neurons_per_layer))\n",
    "\n",
    "        # hidden layers\n",
    "        for _ in range(hidden_layers):\n",
    "            layers.append(activations[activation_hidden]())  \n",
    "            layers.append(nn.Linear(neurons_per_layer, neurons_per_layer))\n",
    "\n",
    "        # output layer\n",
    "        layers.append(activations[activation_output]())   \n",
    "        layers.append(nn.Linear(neurons_per_layer, output_size))\n",
    "\n",
    "        # combine all layers\n",
    "        self.model = nn.Sequential(*layers)\n",
    "\n",
    "    def forward(self, x):\n",
    "        return self.model(x)"
   ]
  },
  {
   "cell_type": "markdown",
   "metadata": {},
   "source": [
    "### Code to 3. Implement Training Metrics"
   ]
  },
  {
   "cell_type": "code",
   "execution_count": 3,
   "metadata": {},
   "outputs": [],
   "source": [
    "import torch\n",
    "\n",
    "class Metrics:\n",
    "    @staticmethod\n",
    "    def calculate_loss(predictions, targets):\n",
    "        loss = torch.mean((predictions - targets) ** 2)\n",
    "        return loss\n",
    "\n",
    "    @staticmethod\n",
    "    def calculate_accuracy(predictions, targets):\n",
    "        correct = torch.abs(predictions - targets) < 0.05  \n",
    "        accuracy = torch.mean(correct.float()) \n",
    "        return accuracy\n",
    "\n",
    "    @staticmethod\n",
    "    def calculate_validation_loss(predictions, targets):\n",
    "        return Metrics.calculate_loss(predictions, targets)\n",
    "\n",
    "    @staticmethod\n",
    "    def log_metrics(epoch, train_loss, val_loss, train_accuracy=None, val_accuracy=None):\n",
    "        if train_accuracy is not None and val_accuracy is not None:\n",
    "            print(f\"Epoch: {epoch}, Train Loss: {train_loss:.3f}, Train Accuracy: {train_accuracy:.3f}, \"\n",
    "                  f\"Validation Loss: {val_loss:.3f}, Validation Accuracy: {val_accuracy:.3f}\")\n",
    "        else:\n",
    "            print(f\"Epoch: {epoch}, Train Loss: {train_loss:.3f}, Validation Loss: {val_loss:.3f}\")"
   ]
  },
  {
   "cell_type": "markdown",
   "metadata": {},
   "source": [
    "### Code to 4. Configuration Files"
   ]
  },
  {
   "cell_type": "code",
   "execution_count": 4,
   "metadata": {},
   "outputs": [
    {
     "data": {
      "text/plain": [
       "{'input_size': 1,\n",
       " 'output_size': 1,\n",
       " 'hidden_layers': 1,\n",
       " 'neurons_per_layer': 10,\n",
       " 'activation_hidden': 'relu',\n",
       " 'activation_output': 'linear',\n",
       " 'batch_size': 16,\n",
       " 'epochs': 100,\n",
       " 'learning_rate': 0.001}"
      ]
     },
     "execution_count": 4,
     "metadata": {},
     "output_type": "execute_result"
    }
   ],
   "source": [
    "#  4. Configuration Files\n",
    "# config.json\n",
    "{\n",
    "        \"input_size\": 1,\n",
    "        \"output_size\": 1,\n",
    "        \"hidden_layers\": 2,\n",
    "        \"neurons_per_layer\": 75,\n",
    "        \"activation_hidden\": \"relu\",\n",
    "        \"activation_output\": \"linear\",\n",
    "        \"batch_size\": 16,\n",
    "        \"epochs\": 100,\n",
    "        \"learning_rate\": 0.001\n",
    "    }\n",
    "\n",
    "\n",
    "# optimal.json\n",
    "{\n",
    "        \"input_size\": 1,\n",
    "        \"output_size\": 1,\n",
    "        \"hidden_layers\": 2,\n",
    "        \"neurons_per_layer\": 75,\n",
    "        \"activation_hidden\": \"relu\",\n",
    "        \"activation_output\": \"linear\",\n",
    "        \"batch_size\": 16,\n",
    "        \"epochs\": 100,\n",
    "        \"learning_rate\": 0.001\n",
    "}\n",
    "\n",
    "\n",
    "# overfit.json\n",
    "{\n",
    "        \"input_size\": 1,\n",
    "        \"output_size\": 1,\n",
    "        \"hidden_layers\": 4,\n",
    "        \"neurons_per_layer\": 100,\n",
    "        \"activation_hidden\": \"relu\",\n",
    "        \"activation_output\": \"linear\",\n",
    "        \"batch_size\": 16,\n",
    "        \"epochs\": 100,\n",
    "        \"learning_rate\": 0.001\n",
    "}\n",
    "\n",
    "\n",
    "# underfit.json\n",
    "{\n",
    "        \"input_size\": 1,\n",
    "        \"output_size\": 1,\n",
    "        \"hidden_layers\": 1,\n",
    "        \"neurons_per_layer\": 10,\n",
    "        \"activation_hidden\": \"relu\",\n",
    "        \"activation_output\": \"linear\",\n",
    "        \"batch_size\": 16,\n",
    "        \"epochs\": 100,\n",
    "        \"learning_rate\": 0.001\n",
    "}"
   ]
  },
  {
   "cell_type": "markdown",
   "metadata": {},
   "source": [
    "### Code to 5. TensorBoard Analysis"
   ]
  },
  {
   "cell_type": "code",
   "execution_count": 10,
   "metadata": {},
   "outputs": [
    {
     "ename": "FileNotFoundError",
     "evalue": "[Errno 2] No such file or directory: 'configs/config.json'",
     "output_type": "error",
     "traceback": [
      "\u001b[0;31m---------------------------------------------------------------------------\u001b[0m",
      "\u001b[0;31mFileNotFoundError\u001b[0m                         Traceback (most recent call last)",
      "Cell \u001b[0;32mIn[10], line 22\u001b[0m\n\u001b[1;32m     19\u001b[0m         \u001b[38;5;28;01mreturn\u001b[39;00m json\u001b[38;5;241m.\u001b[39mload(f)\n\u001b[1;32m     21\u001b[0m \u001b[38;5;66;03m# 4 different configurations for different experiments\u001b[39;00m\n\u001b[0;32m---> 22\u001b[0m basic_config \u001b[38;5;241m=\u001b[39m \u001b[43mload_config\u001b[49m\u001b[43m(\u001b[49m\u001b[38;5;124;43m\"\u001b[39;49m\u001b[38;5;124;43mconfigs/config.json\u001b[39;49m\u001b[38;5;124;43m\"\u001b[39;49m\u001b[43m)\u001b[49m\n\u001b[1;32m     23\u001b[0m optimal_config \u001b[38;5;241m=\u001b[39m load_config(\u001b[38;5;124m\"\u001b[39m\u001b[38;5;124mconfigs/optimal.json\u001b[39m\u001b[38;5;124m\"\u001b[39m)\n\u001b[1;32m     24\u001b[0m overfit_config \u001b[38;5;241m=\u001b[39m load_config(\u001b[38;5;124m\"\u001b[39m\u001b[38;5;124mconfigs/overfit.json\u001b[39m\u001b[38;5;124m\"\u001b[39m)\n",
      "Cell \u001b[0;32mIn[10], line 18\u001b[0m, in \u001b[0;36mload_config\u001b[0;34m(config_file)\u001b[0m\n\u001b[1;32m     17\u001b[0m \u001b[38;5;28;01mdef\u001b[39;00m\u001b[38;5;250m \u001b[39m\u001b[38;5;21mload_config\u001b[39m(config_file):\n\u001b[0;32m---> 18\u001b[0m     \u001b[38;5;28;01mwith\u001b[39;00m \u001b[38;5;28;43mopen\u001b[39;49m\u001b[43m(\u001b[49m\u001b[43mconfig_file\u001b[49m\u001b[43m,\u001b[49m\u001b[43m \u001b[49m\u001b[38;5;124;43m'\u001b[39;49m\u001b[38;5;124;43mr\u001b[39;49m\u001b[38;5;124;43m'\u001b[39;49m\u001b[43m)\u001b[49m \u001b[38;5;28;01mas\u001b[39;00m f:\n\u001b[1;32m     19\u001b[0m         \u001b[38;5;28;01mreturn\u001b[39;00m json\u001b[38;5;241m.\u001b[39mload(f)\n",
      "File \u001b[0;32m~/Library/Python/3.10/lib/python/site-packages/IPython/core/interactiveshell.py:324\u001b[0m, in \u001b[0;36m_modified_open\u001b[0;34m(file, *args, **kwargs)\u001b[0m\n\u001b[1;32m    317\u001b[0m \u001b[38;5;28;01mif\u001b[39;00m file \u001b[38;5;129;01min\u001b[39;00m {\u001b[38;5;241m0\u001b[39m, \u001b[38;5;241m1\u001b[39m, \u001b[38;5;241m2\u001b[39m}:\n\u001b[1;32m    318\u001b[0m     \u001b[38;5;28;01mraise\u001b[39;00m \u001b[38;5;167;01mValueError\u001b[39;00m(\n\u001b[1;32m    319\u001b[0m         \u001b[38;5;124mf\u001b[39m\u001b[38;5;124m\"\u001b[39m\u001b[38;5;124mIPython won\u001b[39m\u001b[38;5;124m'\u001b[39m\u001b[38;5;124mt let you open fd=\u001b[39m\u001b[38;5;132;01m{\u001b[39;00mfile\u001b[38;5;132;01m}\u001b[39;00m\u001b[38;5;124m by default \u001b[39m\u001b[38;5;124m\"\u001b[39m\n\u001b[1;32m    320\u001b[0m         \u001b[38;5;124m\"\u001b[39m\u001b[38;5;124mas it is likely to crash IPython. If you know what you are doing, \u001b[39m\u001b[38;5;124m\"\u001b[39m\n\u001b[1;32m    321\u001b[0m         \u001b[38;5;124m\"\u001b[39m\u001b[38;5;124myou can use builtins\u001b[39m\u001b[38;5;124m'\u001b[39m\u001b[38;5;124m open.\u001b[39m\u001b[38;5;124m\"\u001b[39m\n\u001b[1;32m    322\u001b[0m     )\n\u001b[0;32m--> 324\u001b[0m \u001b[38;5;28;01mreturn\u001b[39;00m \u001b[43mio_open\u001b[49m\u001b[43m(\u001b[49m\u001b[43mfile\u001b[49m\u001b[43m,\u001b[49m\u001b[43m \u001b[49m\u001b[38;5;241;43m*\u001b[39;49m\u001b[43margs\u001b[49m\u001b[43m,\u001b[49m\u001b[43m \u001b[49m\u001b[38;5;241;43m*\u001b[39;49m\u001b[38;5;241;43m*\u001b[39;49m\u001b[43mkwargs\u001b[49m\u001b[43m)\u001b[49m\n",
      "\u001b[0;31mFileNotFoundError\u001b[0m: [Errno 2] No such file or directory: 'configs/config.json'"
     ]
    }
   ],
   "source": [
    "#  5. TensorBoard Analysis\n",
    "\n",
    "import os\n",
    "import sys\n",
    "\n",
    "sys.path.insert(0, os.path.abspath(\"/Users/mariacalvo/Desktop/hm-professional-pytorch-template-mariaccalvo\"))\n",
    "\n",
    "import time\n",
    "import json\n",
    "import torch\n",
    "from model.metric import Metrics\n",
    "from model.dynamic_model import DenseModel\n",
    "from torch.utils.tensorboard import SummaryWriter\n",
    "from data_loader.function_dataset import FunctionsDataset\n",
    "\n",
    "# function to load configurations\n",
    "def load_config(config_file):\n",
    "    with open(config_file, 'r') as f:\n",
    "        return json.load(f)\n",
    "\n",
    "# 4 different configurations for different experiments\n",
    "basic_config = load_config(\"configs/config.json\")\n",
    "optimal_config = load_config(\"configs/optimal.json\")\n",
    "overfit_config = load_config(\"configs/overfit.json\")\n",
    "underfit_config = load_config(\"configs/underfit.json\")\n",
    "\n",
    "# dictionary of configurations\n",
    "configs = {\n",
    "    \"Basic Configuration\": basic_config,\n",
    "    \"Optimal Configuration\": optimal_config,\n",
    "    \"Overfit Configuration\": overfit_config,\n",
    "    \"Underfit Configuration\": underfit_config\n",
    "}\n",
    "\n",
    "# function to train model\n",
    "def train_model(config_name, config):\n",
    "    print(f\"Running experiment: {config_name}\")\n",
    "\n",
    "    # list of losses\n",
    "    train_losses, val_losses = [], []\n",
    "\n",
    "    # initialize TensorBoard writer\n",
    "    log_dir = f'runs/{config_name.replace(\" \", \"_\")}'  \n",
    "    writer = SummaryWriter(log_dir)\n",
    "\n",
    "    # initialize model\n",
    "    model = DenseModel(\n",
    "        input_size=1,  \n",
    "        output_size=1,\n",
    "        hidden_layers=config[\"hidden_layers\"],\n",
    "        neurons_per_layer=config[\"neurons_per_layer\"],\n",
    "        activation_hidden=config[\"activation_hidden\"],\n",
    "        activation_output=config[\"activation_output\"],\n",
    "    )\n",
    "\n",
    "    # initialize dataset and dataLoader\n",
    "    train_dataset = FunctionsDataset(n_samples=1000, function=\"linear\")\n",
    "    val_dataset = FunctionsDataset(n_samples=200, function=\"linear\")\n",
    "    train_loader = torch.utils.data.DataLoader(train_dataset, batch_size=config[\"batch_size\"], shuffle=True)\n",
    "    val_loader = torch.utils.data.DataLoader(val_dataset, batch_size=config[\"batch_size\"], shuffle=False)\n",
    "\n",
    "    # log model \n",
    "    dummy_input = torch.ones(1, 1)  \n",
    "    writer.add_graph(model, dummy_input)\n",
    "\n",
    "    # hyperparameters\n",
    "    num_epochs = config[\"epochs\"]\n",
    "    learning_rate = config[\"learning_rate\"]\n",
    "    optimizer = torch.optim.Adam(model.parameters(), lr=learning_rate)\n",
    "    loss_fn = torch.nn.MSELoss()\n",
    "    metrics = Metrics()\n",
    "\n",
    "    # training loop\n",
    "    for epoch in range(num_epochs):\n",
    "        start_time = time.time()\n",
    "\n",
    "        # training phase\n",
    "        model.train()\n",
    "        train_loss, train_accuracy = 0.0, 0.0\n",
    "        for x, y in train_loader:\n",
    "            optimizer.zero_grad()\n",
    "            predictions = model(x)\n",
    "            loss = metrics.calculate_loss(predictions, y)\n",
    "            loss.backward()\n",
    "            optimizer.step()\n",
    "            train_loss += loss.item()\n",
    "            train_accuracy += metrics.calculate_accuracy(predictions, y).item()\n",
    "        train_loss /= len(train_loader)\n",
    "        train_accuracy /= len(train_loader)\n",
    "        train_losses.append(train_loss)\n",
    "\n",
    "        # log training metrics\n",
    "        writer.add_scalar('Loss/train', train_loss, epoch)\n",
    "        writer.add_scalar('Accuracy/train', train_accuracy, epoch)\n",
    "\n",
    "        # validation phase\n",
    "        model.eval()\n",
    "        val_loss, val_accuracy = 0.0, 0.0\n",
    "        with torch.no_grad():\n",
    "            for x, y in val_loader:\n",
    "                predictions = model(x)\n",
    "                loss = metrics.calculate_validation_loss(predictions, y)\n",
    "                val_loss += loss.item()\n",
    "                val_accuracy += metrics.calculate_accuracy(predictions, y).item()\n",
    "        val_loss /= len(val_loader)\n",
    "        val_accuracy /= len(val_loader)\n",
    "        val_losses.append(val_loss)\n",
    "\n",
    "        # log validation metrics\n",
    "        writer.add_scalar('Loss/val', val_loss, epoch)\n",
    "        writer.add_scalar('Accuracy/val', val_accuracy, epoch)\n",
    "        writer.add_scalar('Time/epoch', time.time() - start_time, epoch)\n",
    "\n",
    "        # print log\n",
    "        metrics.log_metrics(epoch, train_loss, val_loss, train_accuracy, val_accuracy)\n",
    "\n",
    "    # close TensorBoard writer\n",
    "    writer.close()\n",
    "\n",
    "    return train_losses, val_losses\n",
    "\n",
    "# run experiments\n",
    "training_results = {}\n",
    "for config_name, config in configs.items():\n",
    "    training_results[config_name] = train_model(config_name, config)"
   ]
  },
  {
   "cell_type": "markdown",
   "metadata": {},
   "source": [
    "### Answer to 6. Analysis and Documentation"
   ]
  },
  {
   "cell_type": "markdown",
   "metadata": {},
   "source": [
    "#### 1. Loads different model configurations"
   ]
  },
  {
   "cell_type": "code",
   "execution_count": 13,
   "metadata": {},
   "outputs": [],
   "source": [
    "#  loads libraries and modules\n",
    "\n",
    "import os\n",
    "import sys\n",
    "\n",
    "sys.path.insert(0, os.path.abspath(\"/Users/mariacalvo/Desktop/hm-professional-pytorch-template-mariaccalvo\"))\n",
    "\n",
    "import time\n",
    "import json\n",
    "import torch\n",
    "import numpy as np\n",
    "import torch.nn as nn\n",
    "from torch.optim import Adam\n",
    "import matplotlib.pyplot as plt\n",
    "from model.metric import Metrics\n",
    "from torch.utils.data import Dataset\n",
    "from model.dynamic_model import DenseModel\n",
    "from base.base_data_loader import BaseDataLoader\n",
    "from torch.utils.tensorboard import SummaryWriter\n",
    "from data_loader.function_dataset import FunctionsDataset\n",
    "\n"
   ]
  },
  {
   "cell_type": "code",
   "execution_count": 17,
   "metadata": {},
   "outputs": [
    {
     "ename": "FileNotFoundError",
     "evalue": "[Errno 2] No such file or directory: 'configs/config.json'",
     "output_type": "error",
     "traceback": [
      "\u001b[0;31m---------------------------------------------------------------------------\u001b[0m",
      "\u001b[0;31mFileNotFoundError\u001b[0m                         Traceback (most recent call last)",
      "Cell \u001b[0;32mIn[17], line 14\u001b[0m\n\u001b[1;32m     11\u001b[0m         \u001b[38;5;28;01mreturn\u001b[39;00m json\u001b[38;5;241m.\u001b[39mload(f)\n\u001b[1;32m     13\u001b[0m \u001b[38;5;66;03m# 4 different configurations for different experiments\u001b[39;00m\n\u001b[0;32m---> 14\u001b[0m basic_config \u001b[38;5;241m=\u001b[39m \u001b[43mload_config\u001b[49m\u001b[43m(\u001b[49m\u001b[38;5;124;43m\"\u001b[39;49m\u001b[38;5;124;43mconfigs/config.json\u001b[39;49m\u001b[38;5;124;43m\"\u001b[39;49m\u001b[43m)\u001b[49m\n\u001b[1;32m     15\u001b[0m optimal_config \u001b[38;5;241m=\u001b[39m load_config(\u001b[38;5;124m\"\u001b[39m\u001b[38;5;124mconfigs/optimal.json\u001b[39m\u001b[38;5;124m\"\u001b[39m)\n\u001b[1;32m     16\u001b[0m overfit_config \u001b[38;5;241m=\u001b[39m load_config(\u001b[38;5;124m\"\u001b[39m\u001b[38;5;124mconfigs/overfit.json\u001b[39m\u001b[38;5;124m\"\u001b[39m)\n",
      "Cell \u001b[0;32mIn[17], line 10\u001b[0m, in \u001b[0;36mload_config\u001b[0;34m(config_file)\u001b[0m\n\u001b[1;32m      9\u001b[0m \u001b[38;5;28;01mdef\u001b[39;00m\u001b[38;5;250m \u001b[39m\u001b[38;5;21mload_config\u001b[39m(config_file):\n\u001b[0;32m---> 10\u001b[0m     \u001b[38;5;28;01mwith\u001b[39;00m \u001b[38;5;28;43mopen\u001b[39;49m\u001b[43m(\u001b[49m\u001b[43mconfig_file\u001b[49m\u001b[43m,\u001b[49m\u001b[43m \u001b[49m\u001b[38;5;124;43m'\u001b[39;49m\u001b[38;5;124;43mr\u001b[39;49m\u001b[38;5;124;43m'\u001b[39;49m\u001b[43m)\u001b[49m \u001b[38;5;28;01mas\u001b[39;00m f:\n\u001b[1;32m     11\u001b[0m         \u001b[38;5;28;01mreturn\u001b[39;00m json\u001b[38;5;241m.\u001b[39mload(f)\n",
      "File \u001b[0;32m~/Library/Python/3.10/lib/python/site-packages/IPython/core/interactiveshell.py:324\u001b[0m, in \u001b[0;36m_modified_open\u001b[0;34m(file, *args, **kwargs)\u001b[0m\n\u001b[1;32m    317\u001b[0m \u001b[38;5;28;01mif\u001b[39;00m file \u001b[38;5;129;01min\u001b[39;00m {\u001b[38;5;241m0\u001b[39m, \u001b[38;5;241m1\u001b[39m, \u001b[38;5;241m2\u001b[39m}:\n\u001b[1;32m    318\u001b[0m     \u001b[38;5;28;01mraise\u001b[39;00m \u001b[38;5;167;01mValueError\u001b[39;00m(\n\u001b[1;32m    319\u001b[0m         \u001b[38;5;124mf\u001b[39m\u001b[38;5;124m\"\u001b[39m\u001b[38;5;124mIPython won\u001b[39m\u001b[38;5;124m'\u001b[39m\u001b[38;5;124mt let you open fd=\u001b[39m\u001b[38;5;132;01m{\u001b[39;00mfile\u001b[38;5;132;01m}\u001b[39;00m\u001b[38;5;124m by default \u001b[39m\u001b[38;5;124m\"\u001b[39m\n\u001b[1;32m    320\u001b[0m         \u001b[38;5;124m\"\u001b[39m\u001b[38;5;124mas it is likely to crash IPython. If you know what you are doing, \u001b[39m\u001b[38;5;124m\"\u001b[39m\n\u001b[1;32m    321\u001b[0m         \u001b[38;5;124m\"\u001b[39m\u001b[38;5;124myou can use builtins\u001b[39m\u001b[38;5;124m'\u001b[39m\u001b[38;5;124m open.\u001b[39m\u001b[38;5;124m\"\u001b[39m\n\u001b[1;32m    322\u001b[0m     )\n\u001b[0;32m--> 324\u001b[0m \u001b[38;5;28;01mreturn\u001b[39;00m \u001b[43mio_open\u001b[49m\u001b[43m(\u001b[49m\u001b[43mfile\u001b[49m\u001b[43m,\u001b[49m\u001b[43m \u001b[49m\u001b[38;5;241;43m*\u001b[39;49m\u001b[43margs\u001b[49m\u001b[43m,\u001b[49m\u001b[43m \u001b[49m\u001b[38;5;241;43m*\u001b[39;49m\u001b[38;5;241;43m*\u001b[39;49m\u001b[43mkwargs\u001b[49m\u001b[43m)\u001b[49m\n",
      "\u001b[0;31mFileNotFoundError\u001b[0m: [Errno 2] No such file or directory: 'configs/config.json'"
     ]
    }
   ],
   "source": [
    "#  loads configurations\n",
    "\n",
    "import os\n",
    "import sys\n",
    "\n",
    "sys.path.insert(0, os.path.abspath(\"/Users/mariacalvo/Desktop/hm-professional-pytorch-template-mariaccalvo\"))\n",
    "\n",
    "# function to load configurations\n",
    "def load_config(config_file):\n",
    "    with open(config_file, 'r') as f:\n",
    "        return json.load(f)\n",
    "\n",
    "# 4 different configurations for different experiments\n",
    "basic_config = load_config(\"configs/config.json\")\n",
    "optimal_config = load_config(\"configs/optimal.json\")\n",
    "overfit_config = load_config(\"configs/overfit.json\")\n",
    "underfit_config = load_config(\"configs/underfit.json\")\n",
    "\n",
    "# dictionary of configurations\n",
    "configs = {\n",
    "    \"Basic Configuration\": basic_config,\n",
    "    \"Optimal Configuration\": optimal_config,\n",
    "    \"Overfit Configuration\": overfit_config,\n",
    "    \"Underfit Configuration\": underfit_config\n",
    "}\n",
    "\n",
    "configs"
   ]
  },
  {
   "cell_type": "markdown",
   "metadata": {},
   "source": [
    "#### 2. Trains models using the template"
   ]
  },
  {
   "cell_type": "code",
   "execution_count": 18,
   "metadata": {},
   "outputs": [
    {
     "ename": "NameError",
     "evalue": "name 'configs' is not defined",
     "output_type": "error",
     "traceback": [
      "\u001b[0;31m---------------------------------------------------------------------------\u001b[0m",
      "\u001b[0;31mNameError\u001b[0m                                 Traceback (most recent call last)",
      "Cell \u001b[0;32mIn[18], line 89\u001b[0m\n\u001b[1;32m     87\u001b[0m \u001b[38;5;66;03m# run experiments\u001b[39;00m\n\u001b[1;32m     88\u001b[0m training_results \u001b[38;5;241m=\u001b[39m {}\n\u001b[0;32m---> 89\u001b[0m \u001b[38;5;28;01mfor\u001b[39;00m config_name, config \u001b[38;5;129;01min\u001b[39;00m \u001b[43mconfigs\u001b[49m\u001b[38;5;241m.\u001b[39mitems():\n\u001b[1;32m     90\u001b[0m     training_results[config_name] \u001b[38;5;241m=\u001b[39m train_model(config_name, config)\n",
      "\u001b[0;31mNameError\u001b[0m: name 'configs' is not defined"
     ]
    }
   ],
   "source": [
    "# function to train model\n",
    "def train_model(config_name, config):\n",
    "    print(f\"Running experiment: {config_name}\")\n",
    "\n",
    "    # list of losses\n",
    "    train_losses, val_losses = [], []\n",
    "\n",
    "    # initialize TensorBoard writer\n",
    "    log_dir = f'runs/{config_name.replace(\" \", \"_\")}'  \n",
    "    writer = SummaryWriter(log_dir)\n",
    "\n",
    "    # initialize model\n",
    "    model = DenseModel(\n",
    "        input_size=1,  \n",
    "        output_size=1,\n",
    "        hidden_layers=config[\"hidden_layers\"],\n",
    "        neurons_per_layer=config[\"neurons_per_layer\"],\n",
    "        activation_hidden=config[\"activation_hidden\"],\n",
    "        activation_output=config[\"activation_output\"],\n",
    "    )\n",
    "\n",
    "    # initialize dataset and dataLoader\n",
    "    train_dataset = FunctionsDataset(n_samples=1000, function=\"linear\")\n",
    "    val_dataset = FunctionsDataset(n_samples=200, function=\"linear\")\n",
    "    train_loader = torch.utils.data.DataLoader(train_dataset, batch_size=config[\"batch_size\"], shuffle=True)\n",
    "    val_loader = torch.utils.data.DataLoader(val_dataset, batch_size=config[\"batch_size\"], shuffle=False)\n",
    "\n",
    "    # log model \n",
    "    dummy_input = torch.ones(1, 1)  \n",
    "    writer.add_graph(model, dummy_input)\n",
    "\n",
    "    # hyperparameters\n",
    "    num_epochs = config[\"epochs\"]\n",
    "    learning_rate = config[\"learning_rate\"]\n",
    "    optimizer = torch.optim.Adam(model.parameters(), lr=learning_rate)\n",
    "    loss_fn = torch.nn.MSELoss()\n",
    "    metrics = Metrics()\n",
    "\n",
    "    # training loop\n",
    "    for epoch in range(num_epochs):\n",
    "        start_time = time.time()\n",
    "\n",
    "        # training phase\n",
    "        model.train()\n",
    "        train_loss, train_accuracy = 0.0, 0.0\n",
    "        for x, y in train_loader:\n",
    "            optimizer.zero_grad()\n",
    "            predictions = model(x)\n",
    "            loss = metrics.calculate_loss(predictions, y)\n",
    "            loss.backward()\n",
    "            optimizer.step()\n",
    "            train_loss += loss.item()\n",
    "            train_accuracy += metrics.calculate_accuracy(predictions, y).item()\n",
    "        train_loss /= len(train_loader)\n",
    "        train_accuracy /= len(train_loader)\n",
    "        train_losses.append(train_loss)\n",
    "\n",
    "        # log training metrics\n",
    "        writer.add_scalar('Loss/train', train_loss, epoch)\n",
    "        writer.add_scalar('Accuracy/train', train_accuracy, epoch)\n",
    "\n",
    "        # validation phase\n",
    "        model.eval()\n",
    "        val_loss, val_accuracy = 0.0, 0.0\n",
    "        with torch.no_grad():\n",
    "            for x, y in val_loader:\n",
    "                predictions = model(x)\n",
    "                loss = metrics.calculate_validation_loss(predictions, y)\n",
    "                val_loss += loss.item()\n",
    "                val_accuracy += metrics.calculate_accuracy(predictions, y).item()\n",
    "        val_loss /= len(val_loader)\n",
    "        val_accuracy /= len(val_loader)\n",
    "        val_losses.append(val_loss)\n",
    "\n",
    "        # log validation metrics\n",
    "        writer.add_scalar('Loss/val', val_loss, epoch)\n",
    "        writer.add_scalar('Accuracy/val', val_accuracy, epoch)\n",
    "        writer.add_scalar('Time/epoch', time.time() - start_time, epoch)\n",
    "\n",
    "        # print log\n",
    "        metrics.log_metrics(epoch, train_loss, val_loss, train_accuracy, val_accuracy)\n",
    "\n",
    "    # close TensorBoard writer\n",
    "    writer.close()\n",
    "\n",
    "    return train_losses, val_losses\n",
    "# run experiments\n",
    "training_results = {}\n",
    "for config_name, config in configs.items():\n",
    "    training_results[config_name] = train_model(config_name, config)"
   ]
  },
  {
   "cell_type": "markdown",
   "metadata": {},
   "source": [
    "#### 3. Visualizes results"
   ]
  },
  {
   "cell_type": "code",
   "execution_count": 54,
   "metadata": {},
   "outputs": [
    {
     "data": {
      "image/png": "[encoded data removed]",
      "text/plain": [
       "<Figure size 1000x500 with 1 Axes>"
      ]
     },
     "metadata": {},
     "output_type": "display_data"
    },
    {
     "data": {
      "image/png": "[encoded data removed]",
      "text/plain": [
       "<Figure size 1000x500 with 1 Axes>"
      ]
     },
     "metadata": {},
     "output_type": "display_data"
    }
   ],
   "source": [
    "# plot training losses\n",
    "plt.figure(figsize=(10, 5))\n",
    "for config_name, (train_losses, val_losses) in training_results.items():\n",
    "    plt.plot(train_losses, label=f\"{config_name}\")\n",
    "plt.xlabel(\"Epochs\")\n",
    "plt.ylabel(\"Training Loss\")\n",
    "plt.title(\"Training Loss for Different Configurations\")\n",
    "plt.legend()\n",
    "plt.show()\n",
    "\n",
    "# plot validation losses\n",
    "plt.figure(figsize=(10, 5))\n",
    "for config_name, (train_losses, val_losses) in training_results.items():\n",
    "    plt.plot(val_losses, label=f\"{config_name}\")\n",
    "plt.xlabel(\"Epochs\")\n",
    "plt.ylabel(\"Validation Loss\")\n",
    "plt.title(\"Validation Loss for Different Configurations\")\n",
    "plt.legend()\n",
    "plt.show()\n"
   ]
  },
  {
   "cell_type": "markdown",
   "metadata": {},
   "source": [
    "![training](/Users/mariacalvo/Desktop/hm-professional-pytorch-template-mariaccalvo/training.png)\n",
    "At about 5 epochs, all configurations converge. The basic, optimal, and overfit configurations all end up hitting a training loss of about 0.05 at the same time, while the underfit reaches 0.05 a bit after the rest. The former three all perform decently, while the ladder is probably over regularized. "
   ]
  },
  {
   "cell_type": "markdown",
   "metadata": {},
   "source": [
    "![validation](/Users/mariacalvo/Desktop/hm-professional-pytorch-template-mariaccalvo/validation.png)\n",
    "The basic, optimal, and overfit configurations all have fluctuation. The overfit configuration has the most drastic fluctuations, which shows overfitting. The optimal configuration has the least. Over time, it reaches the most stable and lowest loss. The basic configuration indicate instability, due to having more fluctuations than the optimal configuration. The underfit configuration, however, indicates poor generalization."
   ]
  },
  {
   "cell_type": "markdown",
   "metadata": {},
   "source": [
    "#### 4. Analyzes overfitting and underfitting cases, and 5. Documents findings and conclusions"
   ]
  },
  {
   "cell_type": "markdown",
   "metadata": {},
   "source": [
    "#### Basic Configuration"
   ]
  },
  {
   "cell_type": "markdown",
   "metadata": {},
   "source": [
    "![basic](basic.png)"
   ]
  },
  {
   "cell_type": "markdown",
   "metadata": {},
   "source": [
    "The training accuracy fluctuates between 0.130 and 0.140, which indicates weak larning. The validaton accuracy fluctuates between 0.145 and 0.180. This is an abnormal event of the validation accuracy being higher than the training accuracy. \n",
    "\n",
    "The training loss, however, drops to 0.045 quickly from 0.055, and then stabilizes. The validation loss, on the other hand, has small fluctuations and stays between 0.044 and 0.048. Both loss curves don't diverge too much, showing robust under or overfitting isn't occuring. \n",
    "\n",
    "Time per epoch range from 0.14 to 0.28 seconds. There are spikes, however, arguably indicate variation in training time. This could be from perhaps differing batch sizes. The results are a bit erratic.\n",
    "\n",
    "Overall, the accruacy is somewhat stable, and the loss curves coverge nicely and indicate stability. There is not strong indication of strong overfitting. However, the model indicates weak learning from the low accuracy, even though it is stable. Additionally, the validaton accuracy was greater than the training accuracy, which could indicate aggressive model regularization or the training data being more noisy or complicated than the validation data.\n",
    "\n",
    "The basic configuration could've performed like this due to the learning rate being too small or the model being too simple. Some recommendations for improvement is by increasing the learning rate or increasing model complexity."
   ]
  },
  {
   "cell_type": "markdown",
   "metadata": {},
   "source": [
    "#### Optimal Configuration"
   ]
  },
  {
   "cell_type": "markdown",
   "metadata": {},
   "source": [
    "![optimal](optimal.png)"
   ]
  },
  {
   "cell_type": "markdown",
   "metadata": {},
   "source": [
    "The training accuracy for the optimal configuration fluctuates between 0.130 and 0.145, showing a slightly better trend than the basic configuration. The validation accuracy ranges between 0.160 and 0.185, remaining consistently higher. Like before, this is an abnormal pattern where validation accuracy exceeds training accuracy, and may indicate regularization effects.\n",
    "\n",
    "Training loss drops quickly from around 0.054 to roughly 0.046 and stays fairly stable. The validation loss, however, shows a more refined curve than in the basic configuration, with smaller fluctuations between 0.036 and 0.044. These loss curves and their convergence show an improved model learning and more stability, compared to the basic setup.\n",
    "\n",
    "Time per epoch for this configuration stays between 0.14 and 0.26 seconds, following a similar pattern as before with a few spikes. These spikes still suggest variability during training, possibly due to batch composition, but nothing too concerning.\n",
    "\n",
    "Overall, this configuration shows smoother curves and better convergence. Accuracy remains relatively low, but is higher and more stable than the basic configuration. The validation loss is lower and more consistent, which indicates improved generalization. Like the basic configuration, there’s no strong indication of overfitting or underfitting. Additionally, the training process appears stable.\n",
    "\n",
    "This configuration likely performed better due to more appropriate hyperparameters, a deeper model, or improved learning rate. To make it even stronger, one could try fine-tuning the learning rate further. The model may also benefit from slightly more training epochs or an increase in hidden layer size."
   ]
  },
  {
   "cell_type": "markdown",
   "metadata": {},
   "source": [
    "#### Overfit Configuration"
   ]
  },
  {
   "cell_type": "markdown",
   "metadata": {},
   "source": [
    "![overfit](overfit.png)"
   ]
  },
  {
   "cell_type": "markdown",
   "metadata": {},
   "source": [
    "The training accuracy for the overfit configuration fluctuates between 0.128 and 0.142. The validation accuracy ranges from 0.135 to 0.185, once again showing the pattern of validation accuracy being higher than training accuracy. While some small upward trends are visible, the erratic variation in both curves makes the training behavior seem unstable.\n",
    "\n",
    "The training loss starts around 0.054 and gradually lowers to about 0.046, but with several small spikes. The validation loss, however, shows much more noise, ranging from 0.036 to 0.049. These spikes and oscillations, especially in the validation loss, suggest that the model may be overfitting the training data and not generalizing well.\n",
    "\n",
    "Time per epoch stays between 0.18 and 0.26 seconds, with multiple spikes like the previous configurations. These variations might result from different batch contents.\n",
    "\n",
    "Overall, while the loss curves appear to converge, the accuracy fluctuates too much and doesn't reflect strong learning. The validation loss curve, in particular, is less smooth than in the basic or optimal configurations. These signs, along with the name of the configuration, suggest that the model has started to overfit by adapting too well to the training data without stable improvements in generalization.\n",
    "\n",
    "This overfitting could have been caused by a model that is too complex for the task by perhaps too many parameters. Recommendations for improvement would be to reduce the model’s complexity slightly to prevent the model from learning noise in the training data."
   ]
  },
  {
   "cell_type": "markdown",
   "metadata": {},
   "source": [
    "#### Underfit Configuration"
   ]
  },
  {
   "cell_type": "markdown",
   "metadata": {},
   "source": [
    "![underfit](underfit.png)"
   ]
  },
  {
   "cell_type": "markdown",
   "metadata": {},
   "source": [
    "The training accuracy for the underfit configuration starts around 0.128, and steadily increases to just above 0.140 before flattening. The validation accuracy ranges from approximately 0.135 to 0.165, showing a moderate climb early on and then stabilizing. This early plateauing in both curves suggests that the model quickly reached the limits of what it could learn, and wasn't able to improve further.\n",
    "\n",
    "The training loss drops very quickly from around 0.055 to 0.045 within the first few epochs, and stays almost flat from that point on. The validation loss follows a nearly identical trend, dropping fast and settling between 0.042 and 0.044. Both loss curves are extremely smooth with minimal fluctuation, which shows stability, but the early flattening is a sign that the model stopped learning relatively quickly.\n",
    "\n",
    "Time per epoch is more efficient in this configuration, ranging between 0.13 and 0.22 seconds. There are occasional small spikes, but overall, the training time appears faster and more consistent than the other configurations, possibly because the model is smaller or less complex.\n",
    "\n",
    "Overall, the accuracy plateaus early and stays low, while the loss curves show quick convergence without further improvement. This indicates clear underfitting, where the model is too simple to capture the patterns in the data. The stability in training and validation loss can be a good sign, but it reflects the model's limited learning capacity, rather than effective generalization.\n",
    "\n",
    "This configuration likely performed this way due to a model that’s too shallow, a learning rate that’s too low, or regularization that’s too strong. To improve, the model could benefit from increased complexity, such as more layers or neurons, or a slightly higher learning rate."
   ]
  },
  {
   "cell_type": "markdown",
   "metadata": {},
   "source": [
    "### Disclaimer to Professor\n",
    "I don't know why but sometiems it doesn't find base or configs in the root folder, but it's there. I got my code to work earlier, and then I just tried rerunning it one more time before submission and it's not running the same. But it did work at some point, hence the TensorBoard working."
   ]
  }
 ],
 "metadata": {
  "kernelspec": {
   "display_name": "Python 3",
   "language": "python",
   "name": "python3"
  },
  "language_info": {
   "codemirror_mode": {
    "name": "ipython",
    "version": 3
   },
   "file_extension": ".py",
   "mimetype": "text/x-python",
   "name": "python",
   "nbconvert_exporter": "python",
   "pygments_lexer": "ipython3",
   "version": "3.10.16"
  }
 },
 "nbformat": 4,
 "nbformat_minor": 2
}
